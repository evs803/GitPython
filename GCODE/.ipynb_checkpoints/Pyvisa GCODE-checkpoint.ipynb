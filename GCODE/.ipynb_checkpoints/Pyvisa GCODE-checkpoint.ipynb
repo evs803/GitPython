{
 "cells": [
  {
   "cell_type": "markdown",
   "id": "f25905bf",
   "metadata": {},
   "source": [
    "**Import PyVisa and check if installed**"
   ]
  },
  {
   "cell_type": "code",
   "execution_count": 10,
   "id": "81c81580",
   "metadata": {},
   "outputs": [
    {
     "name": "stdout",
     "output_type": "stream",
     "text": [
      "1.14.1\n"
     ]
    }
   ],
   "source": [
    "import pyvisa\n",
    "print(pyvisa.__version__)"
   ]
  },
  {
   "cell_type": "code",
   "execution_count": 11,
   "id": "d71d3eef",
   "metadata": {},
   "outputs": [
    {
     "ename": "ValueError",
     "evalue": "Please install linux-gpib (Linux) or gpib-ctypes (Windows, Linux) to use this resource type. Note that installing gpib-ctypes will give you access to a broader range of functionalities.\nNo module named 'gpib'",
     "output_type": "error",
     "traceback": [
      "\u001b[0;31m---------------------------------------------------------------------------\u001b[0m",
      "\u001b[0;31mValueError\u001b[0m                                Traceback (most recent call last)",
      "\u001b[0;32m/tmp/ipykernel_8517/426993949.py\u001b[0m in \u001b[0;36m<module>\u001b[0;34m\u001b[0m\n\u001b[1;32m      6\u001b[0m \u001b[0;31m# For example, 'GPIB0::5::INSTR' where 5 is the address of the instrument\u001b[0m\u001b[0;34m\u001b[0m\u001b[0;34m\u001b[0m\u001b[0m\n\u001b[1;32m      7\u001b[0m \u001b[0mgpib_address\u001b[0m \u001b[0;34m=\u001b[0m \u001b[0;34m'GPIB0::5::INSTR'\u001b[0m\u001b[0;34m\u001b[0m\u001b[0;34m\u001b[0m\u001b[0m\n\u001b[0;32m----> 8\u001b[0;31m \u001b[0minstrument\u001b[0m \u001b[0;34m=\u001b[0m \u001b[0mrm\u001b[0m\u001b[0;34m.\u001b[0m\u001b[0mopen_resource\u001b[0m\u001b[0;34m(\u001b[0m\u001b[0mgpib_address\u001b[0m\u001b[0;34m)\u001b[0m\u001b[0;34m\u001b[0m\u001b[0;34m\u001b[0m\u001b[0m\n\u001b[0m\u001b[1;32m      9\u001b[0m \u001b[0;34m\u001b[0m\u001b[0m\n\u001b[1;32m     10\u001b[0m \u001b[0;31m# Send a command to the probe station\u001b[0m\u001b[0;34m\u001b[0m\u001b[0;34m\u001b[0m\u001b[0m\n",
      "\u001b[0;32m~/.local/lib/python3.10/site-packages/pyvisa/highlevel.py\u001b[0m in \u001b[0;36mopen_resource\u001b[0;34m(self, resource_name, access_mode, open_timeout, resource_pyclass, **kwargs)\u001b[0m\n\u001b[1;32m   3290\u001b[0m                     )\n\u001b[1;32m   3291\u001b[0m \u001b[0;34m\u001b[0m\u001b[0m\n\u001b[0;32m-> 3292\u001b[0;31m             \u001b[0mres\u001b[0m\u001b[0;34m.\u001b[0m\u001b[0mopen\u001b[0m\u001b[0;34m(\u001b[0m\u001b[0maccess_mode\u001b[0m\u001b[0;34m,\u001b[0m \u001b[0mopen_timeout\u001b[0m\u001b[0;34m)\u001b[0m\u001b[0;34m\u001b[0m\u001b[0;34m\u001b[0m\u001b[0m\n\u001b[0m\u001b[1;32m   3293\u001b[0m \u001b[0;34m\u001b[0m\u001b[0m\n\u001b[1;32m   3294\u001b[0m             \u001b[0;32mfor\u001b[0m \u001b[0mkey\u001b[0m\u001b[0;34m,\u001b[0m \u001b[0mvalue\u001b[0m \u001b[0;32min\u001b[0m \u001b[0mkwargs\u001b[0m\u001b[0;34m.\u001b[0m\u001b[0mitems\u001b[0m\u001b[0;34m(\u001b[0m\u001b[0;34m)\u001b[0m\u001b[0;34m:\u001b[0m\u001b[0;34m\u001b[0m\u001b[0;34m\u001b[0m\u001b[0m\n",
      "\u001b[0;32m~/.local/lib/python3.10/site-packages/pyvisa/resources/resource.py\u001b[0m in \u001b[0;36mopen\u001b[0;34m(self, access_mode, open_timeout)\u001b[0m\n\u001b[1;32m    279\u001b[0m             \u001b[0mconstants\u001b[0m\u001b[0;34m.\u001b[0m\u001b[0mStatusCode\u001b[0m\u001b[0;34m.\u001b[0m\u001b[0msuccess_device_not_present\u001b[0m\u001b[0;34m\u001b[0m\u001b[0;34m\u001b[0m\u001b[0m\n\u001b[1;32m    280\u001b[0m         ):\n\u001b[0;32m--> 281\u001b[0;31m             self.session, status = self._resource_manager.open_bare_resource(\n\u001b[0m\u001b[1;32m    282\u001b[0m                 \u001b[0mself\u001b[0m\u001b[0;34m.\u001b[0m\u001b[0m_resource_name\u001b[0m\u001b[0;34m,\u001b[0m \u001b[0maccess_mode\u001b[0m\u001b[0;34m,\u001b[0m \u001b[0mopen_timeout\u001b[0m\u001b[0;34m\u001b[0m\u001b[0;34m\u001b[0m\u001b[0m\n\u001b[1;32m    283\u001b[0m             )\n",
      "\u001b[0;32m~/.local/lib/python3.10/site-packages/pyvisa/highlevel.py\u001b[0m in \u001b[0;36mopen_bare_resource\u001b[0;34m(self, resource_name, access_mode, open_timeout)\u001b[0m\n\u001b[1;32m   3215\u001b[0m \u001b[0;34m\u001b[0m\u001b[0m\n\u001b[1;32m   3216\u001b[0m         \"\"\"\n\u001b[0;32m-> 3217\u001b[0;31m         \u001b[0;32mreturn\u001b[0m \u001b[0mself\u001b[0m\u001b[0;34m.\u001b[0m\u001b[0mvisalib\u001b[0m\u001b[0;34m.\u001b[0m\u001b[0mopen\u001b[0m\u001b[0;34m(\u001b[0m\u001b[0mself\u001b[0m\u001b[0;34m.\u001b[0m\u001b[0msession\u001b[0m\u001b[0;34m,\u001b[0m \u001b[0mresource_name\u001b[0m\u001b[0;34m,\u001b[0m \u001b[0maccess_mode\u001b[0m\u001b[0;34m,\u001b[0m \u001b[0mopen_timeout\u001b[0m\u001b[0;34m)\u001b[0m\u001b[0;34m\u001b[0m\u001b[0;34m\u001b[0m\u001b[0m\n\u001b[0m\u001b[1;32m   3218\u001b[0m \u001b[0;34m\u001b[0m\u001b[0m\n\u001b[1;32m   3219\u001b[0m     def open_resource(\n",
      "\u001b[0;32m~/.local/lib/python3.10/site-packages/pyvisa_py/highlevel.py\u001b[0m in \u001b[0;36mopen\u001b[0;34m(self, session, resource_name, access_mode, open_timeout)\u001b[0m\n\u001b[1;32m    166\u001b[0m         )\n\u001b[1;32m    167\u001b[0m \u001b[0;34m\u001b[0m\u001b[0m\n\u001b[0;32m--> 168\u001b[0;31m         \u001b[0msess\u001b[0m \u001b[0;34m=\u001b[0m \u001b[0mcls\u001b[0m\u001b[0;34m(\u001b[0m\u001b[0msession\u001b[0m\u001b[0;34m,\u001b[0m \u001b[0mresource_name\u001b[0m\u001b[0;34m,\u001b[0m \u001b[0mparsed\u001b[0m\u001b[0;34m,\u001b[0m \u001b[0mopen_timeout\u001b[0m\u001b[0;34m)\u001b[0m\u001b[0;34m\u001b[0m\u001b[0;34m\u001b[0m\u001b[0m\n\u001b[0m\u001b[1;32m    169\u001b[0m \u001b[0;34m\u001b[0m\u001b[0m\n\u001b[1;32m    170\u001b[0m         \u001b[0;32mreturn\u001b[0m \u001b[0mself\u001b[0m\u001b[0;34m.\u001b[0m\u001b[0m_register\u001b[0m\u001b[0;34m(\u001b[0m\u001b[0msess\u001b[0m\u001b[0;34m)\u001b[0m\u001b[0;34m,\u001b[0m \u001b[0mStatusCode\u001b[0m\u001b[0;34m.\u001b[0m\u001b[0msuccess\u001b[0m\u001b[0;34m\u001b[0m\u001b[0;34m\u001b[0m\u001b[0m\n",
      "\u001b[0;32m~/.local/lib/python3.10/site-packages/pyvisa_py/sessions.py\u001b[0m in \u001b[0;36m__init__\u001b[0;34m(self, *args, **kwargs)\u001b[0m\n\u001b[1;32m    859\u001b[0m \u001b[0;34m\u001b[0m\u001b[0m\n\u001b[1;32m    860\u001b[0m     \u001b[0;32mdef\u001b[0m \u001b[0m__init__\u001b[0m\u001b[0;34m(\u001b[0m\u001b[0mself\u001b[0m\u001b[0;34m,\u001b[0m \u001b[0;34m*\u001b[0m\u001b[0margs\u001b[0m\u001b[0;34m,\u001b[0m \u001b[0;34m**\u001b[0m\u001b[0mkwargs\u001b[0m\u001b[0;34m)\u001b[0m \u001b[0;34m->\u001b[0m \u001b[0;32mNone\u001b[0m\u001b[0;34m:\u001b[0m\u001b[0;34m\u001b[0m\u001b[0;34m\u001b[0m\u001b[0m\n\u001b[0;32m--> 861\u001b[0;31m         \u001b[0;32mraise\u001b[0m \u001b[0mValueError\u001b[0m\u001b[0;34m(\u001b[0m\u001b[0mself\u001b[0m\u001b[0;34m.\u001b[0m\u001b[0msession_issue\u001b[0m\u001b[0;34m)\u001b[0m\u001b[0;34m\u001b[0m\u001b[0;34m\u001b[0m\u001b[0m\n\u001b[0m\u001b[1;32m    862\u001b[0m \u001b[0;34m\u001b[0m\u001b[0m\n\u001b[1;32m    863\u001b[0m     \u001b[0;32mdef\u001b[0m \u001b[0m_get_attribute\u001b[0m\u001b[0;34m(\u001b[0m\u001b[0mself\u001b[0m\u001b[0;34m,\u001b[0m \u001b[0mattr\u001b[0m\u001b[0;34m)\u001b[0m\u001b[0;34m:\u001b[0m\u001b[0;34m\u001b[0m\u001b[0;34m\u001b[0m\u001b[0m\n",
      "\u001b[0;31mValueError\u001b[0m: Please install linux-gpib (Linux) or gpib-ctypes (Windows, Linux) to use this resource type. Note that installing gpib-ctypes will give you access to a broader range of functionalities.\nNo module named 'gpib'"
     ]
    }
   ],
   "source": [
    "# Initialize the VISA resource manager\n",
    "rm = pyvisa.ResourceManager()\n",
    "\n",
    "# Open a connection to the GPIB instrument\n",
    "# Replace 'GPIB0::INSTR' with the appropriate GPIB address for your instrument\n",
    "# For example, 'GPIB0::5::INSTR' where 5 is the address of the instrument\n",
    "gpib_address = 'GPIB0::5::INSTR'\n",
    "instrument = rm.open_resource(gpib_address)\n",
    "\n",
    "# Send a command to the probe station\n",
    "# Replace 'YOUR_COMMAND' with the actual command you want to send\n",
    "command = 'YOUR_COMMAND'\n",
    "instrument.write(command)\n",
    "\n",
    "# If you need to read a response from the instrument\n",
    "response = instrument.read()\n",
    "print(\"Response from the instrument:\", response)\n",
    "\n",
    "# Close the connection\n",
    "instrument.close()"
   ]
  },
  {
   "cell_type": "code",
   "execution_count": 19,
   "id": "c69aff55",
   "metadata": {},
   "outputs": [],
   "source": [
    "def parse_gcode_line(line):\n",
    "    # Initialize variables with default values\n",
    "    gCommand = None\n",
    "    gX = None\n",
    "    gY = None\n",
    "    gZ = None\n",
    "\n",
    "    # Split the line into parts\n",
    "    parts = line.split()\n",
    "\n",
    "    # Iterate through each part to find the command and coordinates\n",
    "    for part in parts:\n",
    "        if part.startswith('G'):\n",
    "            gCommand = part\n",
    "        elif part.startswith('X'):\n",
    "            gX = float(part[1:])  # Convert to float and ignore the 'X' character\n",
    "        elif part.startswith('Y'):\n",
    "            gY = float(part[1:])  # Convert to float and ignore the 'Y' character\n",
    "        elif part.startswith('Z'):\n",
    "            gZ = float(part[1:])  # Convert to float and ignore the 'Z' character\n",
    "\n",
    "    return gCommand, gX, gY, gZ\n",
    "\n",
    "def process_gcode_file(filename):\n",
    "    with open(filename, 'r') as file:\n",
    "        for line in file:\n",
    "            # Strip comments and whitespace\n",
    "            line = line.split(';')[0].strip()\n",
    "\n",
    "            # Skip empty lines\n",
    "            if not line:\n",
    "                continue\n",
    "\n",
    "            # Parse the line\n",
    "            gCommand, gX, gY, gZ = parse_gcode_line(line)\n",
    "\n",
    "            # Print or store the result\n",
    "            print(f\"GCommand: {gCommand}, X: {gX}, Y: {gY}, Z: {gZ}\")\n",
    "            #HERES MY SEND OVER TCP FUNCTION\n",
    "            \n",
    "            \n",
    "def send_command_line(command_to_send)\n",
    "    #Create dictionary to switch between commands and send them over the ports using \n",
    "    #Send Via communicate_with_instrument_via_tcp(ip_address, port, command_to_send)\n",
    "    \n",
    "def communicate_with_instrument_via_tcp(ip_address, port, command):\n",
    "    # Initialize the VISA resource manager\n",
    "    rm = pyvisa.ResourceManager()\n",
    "\n",
    "    # Construct the TCP/IP address string\n",
    "    resource_name = f\"TCPIP0::{ip_address}::{port}::SOCKET\"\n",
    "\n",
    "    try:\n",
    "        # Open a connection to the instrument\n",
    "        instrument = rm.open_resource(resource_name)\n",
    "        print(f\"Connected to {resource_name}\")\n",
    "\n",
    "        # Send the command to the instrument\n",
    "        instrument.write(command)\n",
    "        print(f\"Sent command: {command}\")\n",
    "\n",
    "        # Optionally read the response from the instrument\n",
    "        response = instrument.read()\n",
    "        print(f\"Received response: {response}\")\n",
    "\n",
    "    except pyvisa.VisaIOError as e:\n",
    "        print(f\"VISA I/O error: {e}\")\n",
    "    except Exception as e:\n",
    "        print(f\"An error occurred: {e}\")\n",
    "    finally:\n",
    "        # Close the connection\n",
    "        instrument.close() # NEED TO FIX IF NO DEVICE THEN THIS LINE FAULTS CAUSE THERES NO \"instrument\" device\n",
    "        print(\"Connection closed.\")\n",
    "\n",
    "# Example usage\n",
    "if __name__ == \"__start__\":\n",
    "    gcode_file = 'example.gcode'  # Replace with your GCODE file path\n",
    "    process_gcode_file(gcode_file)\n",
    "    # Specify the IP address and port of the instrument\n",
    "    ip_address = \"192.168.1.100\"  # Replace with your instrument's IP address\n",
    "    port = 5025                   # Replace with your instrument's port\n",
    "\n",
    "    # The command you want to send PUT THIS IN A CASE STATEMENT FOR GCODE TRANSLATION\n",
    "    #command_to_send = \"*IDN?\"  # Common command to query the instrument identity\n",
    "\n",
    "    # Call the function to communicate with the instrument\n",
    "    communicate_with_instrument_via_tcp(ip_address, port, command_to_send)"
   ]
  },
  {
   "cell_type": "code",
   "execution_count": null,
   "id": "1f146b71",
   "metadata": {},
   "outputs": [],
   "source": []
  }
 ],
 "metadata": {
  "kernelspec": {
   "display_name": "Python 3 (ipykernel)",
   "language": "python",
   "name": "python3"
  },
  "language_info": {
   "codemirror_mode": {
    "name": "ipython",
    "version": 3
   },
   "file_extension": ".py",
   "mimetype": "text/x-python",
   "name": "python",
   "nbconvert_exporter": "python",
   "pygments_lexer": "ipython3",
   "version": "3.10.12"
  }
 },
 "nbformat": 4,
 "nbformat_minor": 5
}
