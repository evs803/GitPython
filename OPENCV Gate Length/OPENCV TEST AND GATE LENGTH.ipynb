{
 "cells": [
  {
   "cell_type": "markdown",
   "id": "beff1cbc",
   "metadata": {},
   "source": [
    "This is the Python File for trying out my new python kernel, relearning python, and trying openCV"
   ]
  },
  {
   "cell_type": "code",
   "execution_count": 1,
   "id": "445f82ec",
   "metadata": {},
   "outputs": [
    {
     "name": "stdout",
     "output_type": "stream",
     "text": [
      "Hello World\n"
     ]
    }
   ],
   "source": [
    "print('Hello World')"
   ]
  },
  {
   "cell_type": "code",
   "execution_count": 1,
   "id": "3394afd1",
   "metadata": {},
   "outputs": [
    {
     "name": "stdout",
     "output_type": "stream",
     "text": [
      "4.5.4\n"
     ]
    }
   ],
   "source": [
    "import cv2\n",
    "print(cv2.__version__)\n",
    "import numpy as np\n",
    "from matplotlib import pyplot as plt\n"
   ]
  },
  {
   "cell_type": "code",
   "execution_count": 13,
   "id": "54611616",
   "metadata": {},
   "outputs": [
    {
     "name": "stderr",
     "output_type": "stream",
     "text": [
      "[ WARN:0] global ./modules/videoio/src/cap_gstreamer.cpp (1100) open OpenCV | GStreamer warning: Cannot query video position: status=0, value=-1, duration=-1\n"
     ]
    }
   ],
   "source": [
    "webcam = True\n",
    "path = '1.jpg'\n",
    "\n",
    "if webcam:\n",
    "    cap = cv2.VideoCapture(0)\n",
    "    cap.set(10,160)\n",
    "    cap.set(3,1280)\n",
    "    cap.set(4,720)\n",
    "    if not cap.isOpened():\n",
    "        print(\"Error cap not opened\")\n",
    "else:\n",
    "    img = cv2.imread(path)\n",
    "    if img is None:\n",
    "        print(\"Error image not in path\")\n",
    "\n",
    "while True:\n",
    "    if webcam:\n",
    "        success,img = cap.read()\n",
    "        if not success:\n",
    "            print(\"error: could not read frame from webcam\")\n",
    "            break\n",
    "    else:\n",
    "        img = cv2.imread(path)\n",
    "    if img is None:\n",
    "        print(\"Error: image not found at {path}.\")\n",
    "        break\n",
    "    cv2.imshow('Original',img)\n",
    "    if cv2.waitKey(1) & 0xFF == ord('q'):\n",
    "        break\n",
    "    \n",
    "if webcam:\n",
    "    cap.release()\n",
    "cv2.destroyAllWindows()"
   ]
  },
  {
   "cell_type": "code",
   "execution_count": 12,
   "id": "af5d1172",
   "metadata": {},
   "outputs": [
    {
     "name": "stderr",
     "output_type": "stream",
     "text": [
      "[ WARN:0] global ./modules/videoio/src/cap_gstreamer.cpp (1100) open OpenCV | GStreamer warning: Cannot query video position: status=0, value=-1, duration=-1\n"
     ]
    }
   ],
   "source": [
    "webcam = True\n",
    "path = '1.jpg'\n",
    "\n",
    "if webcam:\n",
    "    cap = cv2.VideoCapture(0)\n",
    "    cap.set(10,160)\n",
    "    cap.set(3,1280)\n",
    "    cap.set(4,720)\n",
    "    if not cap.isOpened():\n",
    "        print(\"Error cap not opened\")\n",
    "        exit()\n",
    "while True:\n",
    "    success,img = cap.read()\n",
    "    if not success:\n",
    "        print(\"error: could not read frame from webcam\")\n",
    "        exit()\n",
    "\n",
    "\n",
    "    img_gray = cv2.cvtColor(img,cv2.COLOR_BGR2GRAY)\n",
    "\n",
    "    edges = cv2.Canny(img_gray, 100, 200)\n",
    "    cv2.imshow('Original', img)\n",
    "    cv2.imshow('Edges', edges)\n",
    "    if cv2.waitKey(1) & 0xFF == ord('q'):\n",
    "        break\n",
    "\n",
    "cap.release()\n",
    "cv2.destroyAllWindows()"
   ]
  },
  {
   "cell_type": "code",
   "execution_count": 3,
   "id": "23023517",
   "metadata": {},
   "outputs": [
    {
     "name": "stderr",
     "output_type": "stream",
     "text": [
      "[ WARN:0] global ./modules/videoio/src/cap_gstreamer.cpp (1100) open OpenCV | GStreamer warning: Cannot query video position: status=0, value=-1, duration=-1\n"
     ]
    }
   ],
   "source": [
    "webcam = True\n",
    "path = '1.jpg'\n",
    "\n",
    "if webcam:\n",
    "    cap = cv2.VideoCapture(0)\n",
    "    cap.set(10,160)\n",
    "    cap.set(3,1280)\n",
    "    cap.set(4,720)\n",
    "    if not cap.isOpened():\n",
    "        print(\"Error cap not opened\")\n",
    "        cap.release()\n",
    "while True:\n",
    "    success,img = cap.read()\n",
    "    if not success:\n",
    "        print(\"error: could not read frame from webcam\")\n",
    "        exit()\n",
    "\n",
    "\n",
    "    img_gray = cv2.cvtColor(img,cv2.COLOR_BGR2GRAY)\n",
    "    blurred = cv2.GaussianBlur(img_gray, (5, 5), 0)\n",
    "    \n",
    "    _, thresh = cv2.threshold(blurred, 100, 255, cv2.THRESH_BINARY_INV)\n",
    "    roi = thresh[25:200, 30:150]\n",
    "    \n",
    "    contours, hierarchy = cv2.findContours(thresh, cv2.RETR_EXTERNAL, cv2.CHAIN_APPROX_SIMPLE)\n",
    "\n",
    "    # Assuming the largest contour corresponds to the gate\n",
    "    if contours:\n",
    "        largest_contour = max(contours, key=cv2.contourArea)\n",
    "        largest_contour_array = largest_contour.squeeze()\n",
    "    else:\n",
    "        print(\"No Contours found\")\n",
    "    \n",
    "    # Optionally, visualize the contour and bounding box\n",
    "    img_cont = cv2.drawContours(img_gray, [largest_contour], -1, (0, 255, 0), 2)\n",
    "\n",
    "\n",
    "    cv2.imshow('Original', img)\n",
    "    cv2.imshow('Contour', img_cont)\n",
    "    if cv2.waitKey(1) & 0xFF == ord('q'):\n",
    "        break\n",
    "\n",
    "cap.release()\n",
    "cv2.destroyAllWindows()"
   ]
  },
  {
   "cell_type": "code",
   "execution_count": 3,
   "id": "179c83ca",
   "metadata": {},
   "outputs": [
    {
     "name": "stderr",
     "output_type": "stream",
     "text": [
      "[ WARN:0] global ./modules/videoio/src/cap_gstreamer.cpp (1100) open OpenCV | GStreamer warning: Cannot query video position: status=0, value=-1, duration=-1\n"
     ]
    },
    {
     "name": "stdout",
     "output_type": "stream",
     "text": [
      "It Worked\n"
     ]
    }
   ],
   "source": [
    "import cv2\n",
    "import numpy as np\n",
    "\n",
    "# Function to find and draw rectangles around detected objects\n",
    "def find_rectangles(frame, mask, min_size):\n",
    "    contours, _ = cv2.findContours(mask, cv2.RETR_EXTERNAL, cv2.CHAIN_APPROX_SIMPLE)\n",
    "    \n",
    "    for cnt in contours:\n",
    "        # Approximate the contour to a polygon\n",
    "        epsilon = 0.02 * cv2.arcLength(cnt, True)\n",
    "        approx = cv2.approxPolyDP(cnt, epsilon, True)\n",
    "        \n",
    "        # We assume a rectangle has 4 sides\n",
    "        if len(approx) == 4:\n",
    "            x, y, w, h = cv2.boundingRect(approx)\n",
    "            # Filter by size\n",
    "            if w >= min_size and h >= min_size:\n",
    "                # Draw the rectangle\n",
    "                cv2.rectangle(frame, (x, y), (x + w, y + h), (0, 255, 0), 2)\n",
    "                # Display width and height\n",
    "                cv2.putText(frame, f'W:{w} H:{h}', (x, y - 10), cv2.FONT_HERSHEY_SIMPLEX, 0.5, (255, 0, 0), 2)\n",
    "    \n",
    "    return frame\n",
    "\n",
    "# Function to create a mask for a specific color range\n",
    "def create_color_mask(frame, lower_bound, upper_bound):\n",
    "    hsv = cv2.cvtColor(frame, cv2.COLOR_BGR2HSV)\n",
    "    mask = cv2.inRange(hsv, lower_bound, upper_bound)\n",
    "    return mask\n",
    "\n",
    "# Define the color range for black objects in HSV color space\n",
    "lower_bound = np.array([0, 0, 0])\n",
    "upper_bound = np.array([180, 255, 50])\n",
    "\n",
    "# Minimum size threshold for rectangle detection\n",
    "min_size = 100  # Adjust this value as needed\n",
    "\n",
    "# Start video capture from webcam\n",
    "cap = cv2.VideoCapture(0)\n",
    "\n",
    "while True:\n",
    "    ret, frame = cap.read()\n",
    "    if not ret:\n",
    "        break\n",
    "    \n",
    "    # Create a mask based on the defined color range\n",
    "    mask = create_color_mask(frame, lower_bound, upper_bound)\n",
    "    \n",
    "    # Find and draw rectangles around detected objects\n",
    "    frame_with_rectangles = find_rectangles(frame, mask, min_size)\n",
    "    \n",
    "    # Display the result\n",
    "    cv2.imshow('Rectangles', frame_with_rectangles)\n",
    "    \n",
    "    # Break the loop on 'q' key press\n",
    "    if cv2.waitKey(1) & 0xFF == ord('q'):\n",
    "        break\n",
    "\n",
    "# Release the capture and close windows\n",
    "cap.release()\n",
    "cv2.destroyAllWindows()\n",
    "print(\"It Worked\")"
   ]
  },
  {
   "cell_type": "code",
   "execution_count": null,
   "id": "dbc9e3d8",
   "metadata": {},
   "outputs": [],
   "source": []
  }
 ],
 "metadata": {
  "kernelspec": {
   "display_name": "Python 3 (ipykernel)",
   "language": "python",
   "name": "python3"
  },
  "language_info": {
   "codemirror_mode": {
    "name": "ipython",
    "version": 3
   },
   "file_extension": ".py",
   "mimetype": "text/x-python",
   "name": "python",
   "nbconvert_exporter": "python",
   "pygments_lexer": "ipython3",
   "version": "3.10.12"
  }
 },
 "nbformat": 4,
 "nbformat_minor": 5
}
